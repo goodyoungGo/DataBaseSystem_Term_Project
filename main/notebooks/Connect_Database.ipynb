{
 "cells": [
  {
   "cell_type": "code",
   "execution_count": 13,
   "id": "395d6e89-c59f-4098-bbab-6fa14e17063f",
   "metadata": {
    "tags": []
   },
   "outputs": [],
   "source": [
    "# 라이브러리 설치 -> pymysql을 사용\n",
    "# !pip install pymysql"
   ]
  },
  {
   "cell_type": "markdown",
   "id": "bf94a209-c7f6-44e9-8db9-b8ea2f491a7b",
   "metadata": {},
   "source": [
    "### 연결 및 CRUD 구현 함수"
   ]
  },
  {
   "cell_type": "code",
   "execution_count": 14,
   "id": "a11718b1-564c-418d-9d2a-9d7d09cc6af7",
   "metadata": {
    "tags": []
   },
   "outputs": [],
   "source": [
    "import pymysql\n",
    "\n",
    "def connect_to_database():\n",
    "    \"\"\" MySQL 서버 연결 \"\"\"\n",
    "    try:\n",
    "        connection = pymysql.connect(\n",
    "            host=\"192.168.56.4\",  # 사용하는 Ip\n",
    "            user=\"geonyoung\", # 계정 명\n",
    "            password=\"1234\",   \n",
    "            database=\"madang\", # 사용할 디비         \n",
    "            port=4567 # mysql port\n",
    "        )\n",
    "        print(\"MySQL 서버에 성공적으로 연결되었습니다.\")\n",
    "        return connection\n",
    "    except:\n",
    "        print(f\"MySQL 연결 실패!! 다시 시도해주세요!\")\n",
    "        return None\n",
    "\n",
    "def insert_data(connection, table_name, data):\n",
    "    \"\"\" 데이터 삽입 (insert) \"\"\"\n",
    "    try:\n",
    "        cursor = connection.cursor()\n",
    "        \n",
    "        # col, value를 무조건 지정해주어야 함. 추후에 고칠 필요가 있음\n",
    "        value = ', '.join(['%s'] * len(data)) # 데이터가 여러개 넣기 위하여\n",
    "        columns = ', '.join(data.keys())\n",
    "        \n",
    "        query = f\"INSERT INTO {table_name} ({columns}) VALUES ({value})\"\n",
    "        \n",
    "        cursor.execute(query, tuple(data.values())) \n",
    "        connection.commit() # 쿼리 커밋\n",
    "        print(\"데이터 삽입 성공\")\n",
    "        \n",
    "    except:\n",
    "        print(f\"데이터 삽입 실패!!\")\n",
    "\n",
    "def execute_query(connection, query):\n",
    "    \"\"\" SQL 쿼리 실행 및 커밋 \"\"\"\n",
    "    try:\n",
    "        cursor = connection.cursor()\n",
    "        cursor.execute(query)\n",
    "        connection.commit()\n",
    "        print(\"쿼리 실행 및 커밋 성공\")\n",
    "    except Exception as e:\n",
    "        print(f\"쿼리 실행 실패: {e}\")\n",
    "        \n",
    "def update_data(connection, table_name, data, condition):\n",
    "    \"\"\" 데이터 업데이트 (update) \"\"\"\n",
    "    try:\n",
    "        cursor = connection.cursor()\n",
    "        \n",
    "        # 데이터를 업데이트 쿼리 문자열로 변환\n",
    "        update_statement = ', '.join([f\"{key} = %s\" for key in data.keys()])\n",
    "        \n",
    "        # 전체 쿼리\n",
    "        query = f\"UPDATE {table_name} SET {update_statement} WHERE {condition}\"\n",
    "        \n",
    "        # 쿼리 실행\n",
    "        cursor.execute(query, tuple(data.values()))\n",
    "        connection.commit()  # 쿼리 커밋\n",
    "        print(\"데이터 업데이트 성공\")\n",
    "        \n",
    "    except Exception as e:\n",
    "        print(f\"데이터 업데이트 실패: {e}\")\n",
    "\n",
    "        \n",
    "def delete_data(connection, table_name, condition):\n",
    "    \"\"\" 데이터 삭제 (delete) \"\"\"\n",
    "    try:\n",
    "        cursor = connection.cursor()\n",
    "        \n",
    "        if condition: # condition 있다면\n",
    "            query = f\"DELETE FROM {table_name} WHERE {condition}\"\n",
    "        else:\n",
    "            query = f\"DELETE FROM {table_name}\"\n",
    "            \n",
    "        cursor.execute(query)\n",
    "        connection.commit() # 쿼리 커밋\n",
    "        print(\"데이터 삭제 성공\")\n",
    "        \n",
    "    except:\n",
    "        print(f\"데이터 삭제 실패!!!\")\n",
    "\n",
    "def search_data(connection, table_name, columns=\"*\", condition=\"1=1\"):\n",
    "    \"\"\" 데이터 검색 (select)\"\"\"\n",
    "    try:\n",
    "        cursor = connection.cursor()\n",
    "        \n",
    "        if condition: # condition 있다면\n",
    "            query = f\"SELECT {columns} FROM {table_name} WHERE {condition}\"\n",
    "        else:\n",
    "            query = f\"SELECT {columns} FROM {table_name}\"\n",
    "            \n",
    "        cursor.execute(query)\n",
    "        results = cursor.fetchall() # 모든 결과 가져오기\n",
    "        print(\"검색된 데이터:\")\n",
    "        for row in results:\n",
    "            print(row)\n",
    "            \n",
    "        return results\n",
    "    \n",
    "    except:\n",
    "        print(f\"데이터 검색 실패 !!!\")"
   ]
  },
  {
   "cell_type": "markdown",
   "id": "c3d17e4e-5252-4190-9720-7c9a0571781f",
   "metadata": {},
   "source": [
    "### 서버 접속 및 실행 하기"
   ]
  },
  {
   "cell_type": "code",
   "execution_count": 15,
   "id": "e833038a-b8ae-428d-9bc9-138049beb7be",
   "metadata": {
    "tags": []
   },
   "outputs": [
    {
     "name": "stdout",
     "output_type": "stream",
     "text": [
      "MySQL 서버에 성공적으로 연결되었습니다.\n"
     ]
    }
   ],
   "source": [
    "# MySQL 서버에 연결\n",
    "connection = connect_to_database()"
   ]
  },
  {
   "cell_type": "code",
   "execution_count": 16,
   "id": "f2701834-3710-4c34-8d15-4d1db2e51063",
   "metadata": {
    "tags": []
   },
   "outputs": [
    {
     "name": "stdout",
     "output_type": "stream",
     "text": [
      "=== 데이터 삽입 ===\n",
      "데이터 삽입 성공\n"
     ]
    }
   ],
   "source": [
    "# 삽입\n",
    "print(\"=== 데이터 삽입 ===\")\n",
    "insert_data(connection, \"Book\", {\n",
    "    \"bookid\": 23,\n",
    "    \"bookname\": \"Python 프로그래밍 예시\",\n",
    "    \"publisher\": \"고건영\",\n",
    "    \"price\": 25000\n",
    "})"
   ]
  },
  {
   "cell_type": "code",
   "execution_count": 19,
   "id": "79bdd81f-4eb1-4010-b3f2-9fd592d2892c",
   "metadata": {
    "tags": []
   },
   "outputs": [
    {
     "name": "stdout",
     "output_type": "stream",
     "text": [
      "\n",
      "=== 데이터 조회 ===\n",
      "검색된 데이터:\n",
      "(23, 'Python 프로그래밍 예시', '고건영', 25000)\n"
     ]
    },
    {
     "data": {
      "text/plain": [
       "((23, 'Python 프로그래밍 예시', '고건영', 25000),)"
      ]
     },
     "execution_count": 19,
     "metadata": {},
     "output_type": "execute_result"
    }
   ],
   "source": [
    "# 조회\n",
    "print(\"\\n=== 데이터 조회 ===\")\n",
    "search_data(connection, \"Book\", \"*\", \"publisher=\\\"고건영\\\"\")"
   ]
  },
  {
   "cell_type": "code",
   "execution_count": 21,
   "id": "d0c9bd6f-5498-454a-b2fd-d11a51d04dcb",
   "metadata": {
    "tags": []
   },
   "outputs": [
    {
     "name": "stdout",
     "output_type": "stream",
     "text": [
      "\n",
      "=== 데이터 삭제 ===\n",
      "데이터 삭제 성공\n"
     ]
    }
   ],
   "source": [
    "# 삭제\n",
    "print(\"\\n=== 데이터 삭제 ===\")\n",
    "delete_data(connection, \"Book\", \"bookid = 23\")"
   ]
  },
  {
   "cell_type": "code",
   "execution_count": 22,
   "id": "ab5cfe9d-3d76-472f-b713-3f17b0b39228",
   "metadata": {
    "tags": []
   },
   "outputs": [
    {
     "name": "stdout",
     "output_type": "stream",
     "text": [
      "\n",
      "=== 데이터 조회 ===\n",
      "검색된 데이터:\n",
      "(1, '축구의 역사', '굿스포츠', 7000)\n",
      "(2, '축구아는 여자', '나무수', 13000)\n",
      "(3, '축구의 이해', '대한미디어', 22000)\n",
      "(4, '골프 바이블', '대한미디어', 35000)\n",
      "(5, '피겨 교본', '굿스포츠', 8000)\n",
      "(6, '역도 단계별기술', '굿스포츠', 6000)\n",
      "(7, '야구의 추억', '이상미디어', 20000)\n",
      "(8, '야구를 부탁해', '이상미디어', 13000)\n",
      "(9, '올림픽 이야기', '삼성당', 7500)\n",
      "(10, 'Olympic Champions', 'Pearson', 13000)\n",
      "(14, '스포츠 의학', 'Pearson', None)\n",
      "(21, 'Zen Golf', 'Pearson', 12000)\n",
      "(22, 'Soccer Skills', 'Human Kinetics', 15000)\n"
     ]
    },
    {
     "data": {
      "text/plain": [
       "((1, '축구의 역사', '굿스포츠', 7000),\n",
       " (2, '축구아는 여자', '나무수', 13000),\n",
       " (3, '축구의 이해', '대한미디어', 22000),\n",
       " (4, '골프 바이블', '대한미디어', 35000),\n",
       " (5, '피겨 교본', '굿스포츠', 8000),\n",
       " (6, '역도 단계별기술', '굿스포츠', 6000),\n",
       " (7, '야구의 추억', '이상미디어', 20000),\n",
       " (8, '야구를 부탁해', '이상미디어', 13000),\n",
       " (9, '올림픽 이야기', '삼성당', 7500),\n",
       " (10, 'Olympic Champions', 'Pearson', 13000),\n",
       " (14, '스포츠 의학', 'Pearson', None),\n",
       " (21, 'Zen Golf', 'Pearson', 12000),\n",
       " (22, 'Soccer Skills', 'Human Kinetics', 15000))"
      ]
     },
     "execution_count": 22,
     "metadata": {},
     "output_type": "execute_result"
    }
   ],
   "source": [
    "# 마지막 조회\n",
    "print(\"\\n=== 데이터 조회 ===\")\n",
    "search_data(connection, \"Book\", \"*\", \"\")"
   ]
  },
  {
   "cell_type": "code",
   "execution_count": 23,
   "id": "8997c6c7-f13b-4341-bfbb-7a9c02be4a07",
   "metadata": {
    "tags": []
   },
   "outputs": [],
   "source": [
    "# 연결 종료\n",
    "connection.close()"
   ]
  },
  {
   "cell_type": "code",
   "execution_count": null,
   "id": "ef5ecd71-b901-472a-8a49-5b5539de66d8",
   "metadata": {},
   "outputs": [],
   "source": []
  }
 ],
 "metadata": {
  "kernelspec": {
   "display_name": "Python 3 (ipykernel)",
   "language": "python",
   "name": "python3"
  },
  "language_info": {
   "codemirror_mode": {
    "name": "ipython",
    "version": 3
   },
   "file_extension": ".py",
   "mimetype": "text/x-python",
   "name": "python",
   "nbconvert_exporter": "python",
   "pygments_lexer": "ipython3",
   "version": "3.11.5"
  }
 },
 "nbformat": 4,
 "nbformat_minor": 5
}
